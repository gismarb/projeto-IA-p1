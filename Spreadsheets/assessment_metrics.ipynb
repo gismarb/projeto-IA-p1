{
 "cells": [
  {
   "cell_type": "code",
   "execution_count": null,
   "id": "439c5afa-1097-4736-90b2-f27a5537b0f6",
   "metadata": {},
   "outputs": [],
   "source": [
    "# Carregando Pandas para uso nos calculos das planilhas\n",
    "import pandas as pd\n",
    "from datetime import datetime\n",
    "# Carregando arquivo.csv em memória (para manipulaçaõ)\n",
    "# Em meu caso, eu estou modificando o \"df = pandas.read_csv('../Database/dataset.csv')\"\n",
    "# Eu estou utilizando uma função lambda para usar um parse no campo datas\n",
    "dateparse = lambda x: datetime.strptime(x, '%H:%M:%S')\n",
    "df = pd.read_csv('../Database/dataset.csv', parse_dates=True, date_parser=dateparse)\n",
    "df.head(31)"
   ]
  },
  {
   "cell_type": "code",
   "execution_count": null,
   "id": "2bd22a3d-5fc9-43be-8805-dd23e203d3fa",
   "metadata": {},
   "outputs": [],
   "source": [
    "#\n",
    "# Etapas para tratar os dados e realizar os cálculos - MTTF, MTTR, MTBF e Disponibilidade - Tempo de Recebimento de Mercadoria\n",
    "#"
   ]
  },
  {
   "cell_type": "code",
   "execution_count": null,
   "id": "c9fcbe4a-a91e-407f-a9a5-f688caed0a35",
   "metadata": {},
   "outputs": [],
   "source": [
    "# Primeiramente, iremos Ordenar o valores de recebimento, para criar uma sequência de dados crescente (tempo_inicio_recebimento_mercadoria)"
   ]
  },
  {
   "cell_type": "code",
   "execution_count": null,
   "id": "59a20bb9-2a37-42ae-aab6-5f21b29a82fa",
   "metadata": {},
   "outputs": [],
   "source": [
    "df.sort_values(by=['tempo_inicio_recebimento_mercadoria'])"
   ]
  },
  {
   "cell_type": "code",
   "execution_count": null,
   "id": "b01d0dc2-f9ea-4890-ba0c-677124dd6b86",
   "metadata": {},
   "outputs": [],
   "source": [
    "tempo_inicio_recebimento_mercadoria = df['tempo_inicio_recebimento_mercadoria']"
   ]
  },
  {
   "cell_type": "code",
   "execution_count": null,
   "id": "4c9e444f-306b-4a8a-8223-62526c597573",
   "metadata": {},
   "outputs": [],
   "source": [
    "tempo_fim_recebimento_mercadoria = df['tempo_fim_recebimento_mercadoria']"
   ]
  },
  {
   "cell_type": "code",
   "execution_count": null,
   "id": "d6c0db66-bb60-4871-add4-258c86b2b991",
   "metadata": {},
   "outputs": [],
   "source": [
    "tempo_inicio_recebimento_mercadoria = pd.to_datetime(tempo_inicio_recebimento_mercadoria)"
   ]
  },
  {
   "cell_type": "code",
   "execution_count": null,
   "id": "84488c91-fdca-4840-b711-5f41ab64d882",
   "metadata": {},
   "outputs": [],
   "source": [
    "tempo_fim_recebimento_mercadoria = pd.to_datetime(tempo_fim_recebimento_mercadoria)"
   ]
  },
  {
   "cell_type": "code",
   "execution_count": null,
   "id": "96929887-1e3d-4aef-a148-ab9ec725003e",
   "metadata": {},
   "outputs": [],
   "source": [
    "# Usando uma variável para armazenar o valores de Tempo Total Disponível (1ª tempo inicial - último tempo final)\n",
    "# Com a subtração acima, é possível ter um valor de tempo disponível"
   ]
  },
  {
   "cell_type": "code",
   "execution_count": null,
   "id": "f6e92b60-95aa-4f39-b74a-771d6f304f30",
   "metadata": {},
   "outputs": [],
   "source": [
    "tempo_total_disponivel_recebimento_mercadoria = tempo_fim_recebimento_mercadoria[7] - tempo_inicio_recebimento_mercadoria[15]"
   ]
  },
  {
   "cell_type": "code",
   "execution_count": null,
   "id": "b3914eb1-c781-4f5a-adfd-ad7dde9b7b5d",
   "metadata": {},
   "outputs": [],
   "source": [
    "tempo_total_disponivel_recebimento_mercadoria"
   ]
  },
  {
   "cell_type": "code",
   "execution_count": null,
   "id": "e320f659-eb9a-4986-914c-29c0447abebe",
   "metadata": {},
   "outputs": [],
   "source": [
    "tempo_duracao_recebimento_mercadoria = tempo_fim_recebimento_mercadoria - tempo_inicio_recebimento_mercadoria"
   ]
  },
  {
   "cell_type": "code",
   "execution_count": null,
   "id": "b2b286d6-6b17-4f94-a4c2-d9ad78f55dd2",
   "metadata": {},
   "outputs": [],
   "source": [
    "tempo_duracao_recebimento_mercadoria"
   ]
  },
  {
   "cell_type": "code",
   "execution_count": null,
   "id": "4e09b6e9-9b05-4226-b3cd-b4649ae3f09f",
   "metadata": {},
   "outputs": [],
   "source": [
    "# Usando uma variável para armazenar Tempo Total Utilizado (somando todos os valores da sequência de tempo de duração)\n",
    "# Com esta operação, é possível ter o valor final de tempo de atividade (produção)"
   ]
  },
  {
   "cell_type": "code",
   "execution_count": null,
   "id": "e5db3f2b-8cc5-4d53-8872-ca020c12c207",
   "metadata": {},
   "outputs": [],
   "source": [
    "tempo_total_utilizado_recebimento_mercadoria = tempo_duracao_recebimento_mercadoria.sum()"
   ]
  },
  {
   "cell_type": "code",
   "execution_count": null,
   "id": "13d6f20c-7f34-4442-955f-a3e2b4a72a68",
   "metadata": {},
   "outputs": [],
   "source": [
    "tempo_total_utilizado_recebimento_mercadoria"
   ]
  },
  {
   "cell_type": "code",
   "execution_count": null,
   "id": "7bd3ed85-2d4b-4175-abeb-f6d0d3f271b0",
   "metadata": {},
   "outputs": [],
   "source": [
    "# Usando uma variável para armazernar o Tempo Total de Paradas (subtraindo do Tempo Total Disponível o Tempo Total Utilizado)"
   ]
  },
  {
   "cell_type": "code",
   "execution_count": null,
   "id": "63e41d1d-9df3-4f6b-80be-4e3ae78333e7",
   "metadata": {},
   "outputs": [],
   "source": [
    "tempo_total_parada_recebimento_mercadoria = tempo_total_disponivel_recebimento_mercadoria - tempo_total_utilizado_recebimento_mercadoria"
   ]
  },
  {
   "cell_type": "code",
   "execution_count": null,
   "id": "00447efb-fb62-43ea-bd63-f7cdb788fb0c",
   "metadata": {},
   "outputs": [],
   "source": [
    "tempo_total_parada_recebimento_mercadoria"
   ]
  },
  {
   "cell_type": "code",
   "execution_count": null,
   "id": "189160fb-d401-41d6-b9a4-4584686166bb",
   "metadata": {},
   "outputs": [],
   "source": [
    "# Usando uma variável para armazenar as ocorrências de paradas (quantidade de registro -1, nos mostra todas as paradas da série)"
   ]
  },
  {
   "cell_type": "code",
   "execution_count": null,
   "id": "238459f9-c469-4a50-83ad-517edf1210ea",
   "metadata": {},
   "outputs": [],
   "source": [
    "qtde_paradas_recebimento_mercadorias = tempo_duracao_recebimento_mercadoria.count() - 1"
   ]
  },
  {
   "cell_type": "code",
   "execution_count": null,
   "id": "a9ee0ec2-22e6-48a3-9ddf-6ff9e984d571",
   "metadata": {},
   "outputs": [],
   "source": [
    "qtde_paradas_recebimento_mercadorias"
   ]
  },
  {
   "cell_type": "code",
   "execution_count": null,
   "id": "aad0353f-1c83-446a-8e8a-8509d1e04d42",
   "metadata": {},
   "outputs": [],
   "source": [
    "# Calculando o MTTF das Colunas de Recebimento"
   ]
  },
  {
   "cell_type": "code",
   "execution_count": null,
   "id": "8d60b607-e8e5-45c3-b474-786a6961ab4c",
   "metadata": {},
   "outputs": [],
   "source": [
    "mttf_recebimento_mercadoria = tempo_duracao_recebimento_mercadoria.mean()"
   ]
  },
  {
   "cell_type": "code",
   "execution_count": null,
   "id": "3b47f74e-5b50-4b98-9d6d-f2a5e98d5019",
   "metadata": {},
   "outputs": [],
   "source": [
    "mttf_recebimento_mercadoria"
   ]
  },
  {
   "cell_type": "code",
   "execution_count": null,
   "id": "d29ee980-a9ae-4698-b46a-67fbc1e581ca",
   "metadata": {},
   "outputs": [],
   "source": [
    "# Calculando o MTTR das Colunas de Recebimento"
   ]
  },
  {
   "cell_type": "code",
   "execution_count": null,
   "id": "fc95072c-a708-4be6-aee2-641eae97ad11",
   "metadata": {},
   "outputs": [],
   "source": [
    "mttr_recebimento_mercadoria = tempo_total_parada_recebimento_mercadoria / qtde_paradas_recebimento_mercadorias"
   ]
  },
  {
   "cell_type": "code",
   "execution_count": null,
   "id": "6d57250b-a326-49b1-adfe-514a4177b177",
   "metadata": {},
   "outputs": [],
   "source": [
    "mttr_recebimento_mercadoria"
   ]
  },
  {
   "cell_type": "code",
   "execution_count": null,
   "id": "17f38f79-6df4-4232-9d65-72051745709f",
   "metadata": {},
   "outputs": [],
   "source": [
    "# Calculando o MTBF das Colunas de Recebimento"
   ]
  },
  {
   "cell_type": "code",
   "execution_count": null,
   "id": "c8470759-0f67-46fe-9467-b850f67bffd3",
   "metadata": {},
   "outputs": [],
   "source": [
    "mtbf_recebimento_mercadoria = (tempo_total_disponivel_recebimento_mercadoria - tempo_total_parada_recebimento_mercadoria) / qtde_paradas_recebimento_mercadorias"
   ]
  },
  {
   "cell_type": "code",
   "execution_count": null,
   "id": "8c774b0a-4db2-4e4d-9509-050b63468a09",
   "metadata": {},
   "outputs": [],
   "source": [
    "mtbf_recebimento_mercadoria"
   ]
  },
  {
   "cell_type": "code",
   "execution_count": null,
   "id": "7e9a9c0b-5219-4020-bdde-e83ed5296fe1",
   "metadata": {},
   "outputs": [],
   "source": [
    "# Calculando a Disponibilidade das Colunas de Recebimento"
   ]
  },
  {
   "cell_type": "code",
   "execution_count": null,
   "id": "d71a9a4c-e5bf-4b18-a556-fc99febef5dd",
   "metadata": {},
   "outputs": [],
   "source": [
    "disponibilidade_recebimento_mercadoria = mtbf_recebimento_mercadoria / (mttr_recebimento_mercadoria + mtbf_recebimento_mercadoria)"
   ]
  },
  {
   "cell_type": "code",
   "execution_count": null,
   "id": "709ce14e-1c71-4552-ab7a-dacba06f20c3",
   "metadata": {},
   "outputs": [],
   "source": [
    "disponibilidade_recebimento_mercadoria"
   ]
  },
  {
   "cell_type": "code",
   "execution_count": null,
   "id": "22a1ac80-2182-44cf-b7be-03a0ea431a74",
   "metadata": {},
   "outputs": [],
   "source": [
    "#\n",
    "# Etapas para tratar os dados e realizar os cálculos - MTTF, MTTR, MTBF e Disponibilidade - Tempo de Pré Triagem\n",
    "#"
   ]
  },
  {
   "cell_type": "code",
   "execution_count": null,
   "id": "d7b45f17-a9ed-4c0e-990b-5a7f76169845",
   "metadata": {},
   "outputs": [],
   "source": [
    "# Primeiramente, iremos Ordenar o valores de recebimento, para criar uma sequência de dados crescente (tempo_inicio_pre_triagem)"
   ]
  },
  {
   "cell_type": "code",
   "execution_count": null,
   "id": "d2232762-760f-4d83-9cd6-ecf5dd532278",
   "metadata": {},
   "outputs": [],
   "source": [
    "df.sort_values(by=['tempo_inicio_pre_triagem'])"
   ]
  },
  {
   "cell_type": "code",
   "execution_count": null,
   "id": "70533ce1-6237-4ada-a347-ff2c4ae87cee",
   "metadata": {},
   "outputs": [],
   "source": [
    "tempo_inicio_pre_triagem = df['tempo_inicio_pre_triagem']"
   ]
  },
  {
   "cell_type": "code",
   "execution_count": null,
   "id": "b72df0ca-d45f-4573-b505-8eea93d66321",
   "metadata": {},
   "outputs": [],
   "source": [
    "tempo_fim_pre_triagem = df['tempo_fim_pre_triagem']"
   ]
  },
  {
   "cell_type": "code",
   "execution_count": null,
   "id": "c2665dee-9c8f-4563-a5af-2e72ab7eb4db",
   "metadata": {},
   "outputs": [],
   "source": [
    "tempo_inicio_pre_triagem = pd.to_datetime(tempo_inicio_pre_triagem)"
   ]
  },
  {
   "cell_type": "code",
   "execution_count": null,
   "id": "4ed59ccd-8dc9-41cb-819c-609de6984051",
   "metadata": {},
   "outputs": [],
   "source": [
    "tempo_fim_pre_triagem = pd.to_datetime(tempo_fim_pre_triagem)"
   ]
  },
  {
   "cell_type": "code",
   "execution_count": null,
   "id": "4fe2ae95-0e3a-40e7-a742-c2a9f7fa4bf3",
   "metadata": {},
   "outputs": [],
   "source": [
    "# Usando uma variável para armazenar o valores de Tempo Total Disponível (1ª tempo inicial - último tempo final)\n",
    "# Com a subtração acima, é possível ter um valor de tempo disponível\n",
    "# O uso da operação \"+ pd.Timedelta(\"1 days\")\" é para corrigir erro do valor negativo."
   ]
  },
  {
   "cell_type": "code",
   "execution_count": null,
   "id": "2cd5fa56-0968-4cb7-871d-e7c18af1ce71",
   "metadata": {},
   "outputs": [],
   "source": [
    "tempo_total_disponivel_pre_triagem = (tempo_fim_pre_triagem[15] - tempo_inicio_pre_triagem[1]) + pd.Timedelta(\"1 days\")"
   ]
  },
  {
   "cell_type": "code",
   "execution_count": null,
   "id": "7118c956-1896-4fa3-84eb-43a438c0b072",
   "metadata": {},
   "outputs": [],
   "source": [
    "tempo_total_disponivel_pre_triagem"
   ]
  },
  {
   "cell_type": "code",
   "execution_count": null,
   "id": "03bd0b92-cc2c-4498-85d9-6d2923529215",
   "metadata": {},
   "outputs": [],
   "source": [
    "tempo_duracao_pre_triagem = tempo_fim_pre_triagem - tempo_inicio_pre_triagem"
   ]
  },
  {
   "cell_type": "code",
   "execution_count": null,
   "id": "d4db8f49-1c71-43d7-8950-021acfd88c4f",
   "metadata": {},
   "outputs": [],
   "source": [
    "tempo_duracao_pre_triagem"
   ]
  },
  {
   "cell_type": "code",
   "execution_count": null,
   "id": "832f6550-ab59-4b83-baf7-4e2bddce8d82",
   "metadata": {},
   "outputs": [],
   "source": [
    "# Usando uma variável para armazenar Tempo Total Utilizado (somando todos os valores da sequência de tempo de duração)\n",
    "# Com esta operação, é possível ter o valor final de tempo de atividade (produção)"
   ]
  },
  {
   "cell_type": "code",
   "execution_count": null,
   "id": "dab0bef9-1c24-454b-b53b-174d6e6f9211",
   "metadata": {},
   "outputs": [],
   "source": [
    "tempo_total_utilizado_pre_triagem = tempo_duracao_pre_triagem.sum() + pd.Timedelta(\"1 days\")"
   ]
  },
  {
   "cell_type": "code",
   "execution_count": null,
   "id": "8fab910c-76f9-419e-8323-ca5b5f327c66",
   "metadata": {},
   "outputs": [],
   "source": [
    "tempo_total_utilizado_pre_triagem"
   ]
  },
  {
   "cell_type": "code",
   "execution_count": null,
   "id": "9e8bcaa3-1e80-4a0f-a108-110fba7107dd",
   "metadata": {},
   "outputs": [],
   "source": [
    "# Usando uma variável para armazernar o Tempo Total de Paradas (subtraindo do Tempo Total Disponível o Tempo Total Utilizado)"
   ]
  },
  {
   "cell_type": "code",
   "execution_count": null,
   "id": "b6cad7c7-2e58-40c2-8698-58109503f8a7",
   "metadata": {},
   "outputs": [],
   "source": [
    "tempo_total_parada_pre_triagem = tempo_total_disponivel_pre_triagem - tempo_total_utilizado_pre_triagem"
   ]
  },
  {
   "cell_type": "code",
   "execution_count": null,
   "id": "78deffa8-c3cd-4f86-8ce1-b38a7103d445",
   "metadata": {},
   "outputs": [],
   "source": [
    "tempo_total_parada_pre_triagem"
   ]
  },
  {
   "cell_type": "code",
   "execution_count": null,
   "id": "9c7dba67-c4fe-417c-a490-68e7ff3e84c2",
   "metadata": {},
   "outputs": [],
   "source": [
    "# Usando uma variável para armazenar as ocorrências de paradas (quantidade de registro -1, nos mostra todas as paradas da série)"
   ]
  },
  {
   "cell_type": "code",
   "execution_count": null,
   "id": "01d457e1-0ebc-4856-9a91-cc8d76768267",
   "metadata": {},
   "outputs": [],
   "source": [
    "qtde_paradas_pre_triagem = tempo_duracao_pre_triagem.count() - 1"
   ]
  },
  {
   "cell_type": "code",
   "execution_count": null,
   "id": "967a7554-8597-42ac-8362-589958a743ab",
   "metadata": {},
   "outputs": [],
   "source": [
    "qtde_paradas_pre_triagem"
   ]
  },
  {
   "cell_type": "code",
   "execution_count": null,
   "id": "4d7a96c2-36ea-491e-afbb-88deb6a079a0",
   "metadata": {},
   "outputs": [],
   "source": [
    "# Calculando o MTTF das Colunas de Pré Triagem"
   ]
  },
  {
   "cell_type": "code",
   "execution_count": null,
   "id": "e87a1838-e264-4679-94d2-884a2ed06dbb",
   "metadata": {},
   "outputs": [],
   "source": [
    "# Correção do item 15 da nossa lista (-1 days +00:05:00).\n",
    "# A correção é necessária para desprezar o valor de \"-1 days\" do resultado. Correto é \"00:05:00\"\n",
    "# Observação-1: a multiplicação por -1 (*-1) não resolvia o problema, por que estamos trabalhando com tipo data/hora\n",
    "# Observação-2: esta solução deve ser executada uma única vez. Caso necessário uma segunda ou mais execuções\n",
    "#               será necessário \"limpar todas as saídas\" e rexecutar todos os calculos novamente."
   ]
  },
  {
   "cell_type": "code",
   "execution_count": null,
   "id": "b0d22440-cde2-4829-bf14-f135d3a3cc83",
   "metadata": {},
   "outputs": [],
   "source": [
    "x_tempo_duracao_pre_triagem = tempo_duracao_pre_triagem"
   ]
  },
  {
   "cell_type": "code",
   "execution_count": null,
   "id": "28525c2c-2a1d-43ea-83b1-e974dda0e07a",
   "metadata": {},
   "outputs": [],
   "source": [
    "x_tempo_duracao_pre_triagem[15] = x_tempo_duracao_pre_triagem[15] + pd.Timedelta(\"1 days\")"
   ]
  },
  {
   "cell_type": "code",
   "execution_count": null,
   "id": "66935d22-a33c-4474-890c-1267c39dca90",
   "metadata": {},
   "outputs": [],
   "source": [
    "mttf_pre_triagem = x_tempo_duracao_pre_triagem.mean()"
   ]
  },
  {
   "cell_type": "code",
   "execution_count": null,
   "id": "eec24c51-767f-445d-86ef-68242fd401be",
   "metadata": {},
   "outputs": [],
   "source": [
    "mttf_pre_triagem"
   ]
  },
  {
   "cell_type": "code",
   "execution_count": null,
   "id": "79ed3c84-4053-4044-9f6e-00281f41d9aa",
   "metadata": {},
   "outputs": [],
   "source": [
    "# Calculando o MTTR das Colunas de Pré Triagem"
   ]
  },
  {
   "cell_type": "code",
   "execution_count": null,
   "id": "e4638b14-4312-4a42-bcb8-137130a30d66",
   "metadata": {},
   "outputs": [],
   "source": [
    "mttr_pre_triagem = tempo_total_parada_pre_triagem / qtde_paradas_pre_triagem"
   ]
  },
  {
   "cell_type": "code",
   "execution_count": null,
   "id": "ebf961de-d2e9-4ed3-9bcc-dd71065a4d2d",
   "metadata": {},
   "outputs": [],
   "source": [
    "mttr_pre_triagem"
   ]
  },
  {
   "cell_type": "code",
   "execution_count": null,
   "id": "a4571b3e-6220-4a10-ace5-43c44a1f65dd",
   "metadata": {},
   "outputs": [],
   "source": [
    "# Calculando o MTBF das Colunas de Pré Triagem"
   ]
  },
  {
   "cell_type": "code",
   "execution_count": null,
   "id": "51e50e49-0b68-45aa-8e16-5172b3fc9231",
   "metadata": {},
   "outputs": [],
   "source": [
    "mtbf_pre_triagem = (tempo_total_disponivel_pre_triagem - tempo_total_parada_pre_triagem) / qtde_paradas_pre_triagem"
   ]
  },
  {
   "cell_type": "code",
   "execution_count": null,
   "id": "847351b2-b437-4ad0-b220-67b873284c29",
   "metadata": {},
   "outputs": [],
   "source": [
    "mtbf_pre_triagem"
   ]
  },
  {
   "cell_type": "code",
   "execution_count": null,
   "id": "84565b55-4f4f-4dd0-8da2-411a7a65a27a",
   "metadata": {},
   "outputs": [],
   "source": [
    "# Calculando a Disponibilidade das Colunas de Pré Triagem"
   ]
  },
  {
   "cell_type": "code",
   "execution_count": null,
   "id": "d9435b08-a53f-4863-8a79-1309a462d4ce",
   "metadata": {},
   "outputs": [],
   "source": [
    "disponibilidade_pre_triagem = mtbf_pre_triagem / (mttr_pre_triagem + mtbf_pre_triagem)"
   ]
  },
  {
   "cell_type": "code",
   "execution_count": null,
   "id": "74b62fdc-5226-414c-b765-3711f6463fcc",
   "metadata": {},
   "outputs": [],
   "source": [
    "disponibilidade_pre_triagem"
   ]
  },
  {
   "cell_type": "code",
   "execution_count": null,
   "id": "e145267c-fc12-4a2e-a37a-309e047d7924",
   "metadata": {},
   "outputs": [],
   "source": [
    "#\n",
    "# Etapas para tratar os dados e realizar os cálculos - MTTF, MTTR, MTBF e Disponibilidade - Tempo de Raio X\n",
    "#"
   ]
  },
  {
   "cell_type": "code",
   "execution_count": null,
   "id": "111ec915-9f59-4062-83e9-9720a86a335b",
   "metadata": {},
   "outputs": [],
   "source": [
    "# Primeiramente, iremos Ordenar o valores de recebimento, para criar uma sequência de dados crescente (tempo_inicio_raio_x)"
   ]
  },
  {
   "cell_type": "code",
   "execution_count": null,
   "id": "79228435-9621-41e6-9187-2ccdd1081cf2",
   "metadata": {},
   "outputs": [],
   "source": [
    "df.sort_values(by=['tempo_inicio_raio_x'])"
   ]
  },
  {
   "cell_type": "code",
   "execution_count": null,
   "id": "0eaee200-0b0a-4a13-bc68-c0af8afe8fd8",
   "metadata": {},
   "outputs": [],
   "source": [
    "tempo_inicio_raio_x = df['tempo_inicio_raio_x']"
   ]
  },
  {
   "cell_type": "code",
   "execution_count": null,
   "id": "cab6413d-b4d9-48d3-bad8-503fa496e1c7",
   "metadata": {},
   "outputs": [],
   "source": [
    "tempo_fim_raio_x = df['tempo_fim_raio_x']"
   ]
  },
  {
   "cell_type": "code",
   "execution_count": null,
   "id": "7d573f66-77e3-4956-a09e-700cbe5438a7",
   "metadata": {},
   "outputs": [],
   "source": [
    "tempo_inicio_raio_x = pd.to_datetime(tempo_inicio_raio_x)"
   ]
  },
  {
   "cell_type": "code",
   "execution_count": null,
   "id": "7cc22198-cbd6-4fc9-825e-3714c54d9c8a",
   "metadata": {},
   "outputs": [],
   "source": [
    "tempo_fim_raio_x = pd.to_datetime(tempo_fim_raio_x)"
   ]
  },
  {
   "cell_type": "code",
   "execution_count": null,
   "id": "e2fc3524-28cc-4006-9744-96682f757dba",
   "metadata": {},
   "outputs": [],
   "source": [
    "# Usando uma variável para armazenar o valores de Tempo Total Disponível (1ª tempo inicial - último tempo final)\n",
    "# Com a subtração acima, é possível ter um valor de tempo disponível"
   ]
  },
  {
   "cell_type": "code",
   "execution_count": null,
   "id": "26e0afc5-49d5-4c1a-a570-eb6bbdfed05b",
   "metadata": {},
   "outputs": [],
   "source": [
    "tempo_total_disponivel_raio_x = (tempo_fim_raio_x[4] - tempo_inicio_raio_x[27]) + pd.Timedelta(\"1 days\")"
   ]
  },
  {
   "cell_type": "code",
   "execution_count": null,
   "id": "6cf4b618-0c59-40e2-b967-0724fc0fb00a",
   "metadata": {},
   "outputs": [],
   "source": [
    "tempo_total_disponivel_raio_x"
   ]
  },
  {
   "cell_type": "code",
   "execution_count": null,
   "id": "bb2084fc-9945-484f-a3d9-789948da7397",
   "metadata": {},
   "outputs": [],
   "source": [
    "tempo_duracao_raio_x = tempo_fim_raio_x - tempo_inicio_raio_x"
   ]
  },
  {
   "cell_type": "code",
   "execution_count": null,
   "id": "92c8476a-a443-451d-aa6a-4aae03955f13",
   "metadata": {},
   "outputs": [],
   "source": [
    "# Usando uma variável para armazenar Tempo Total Utilizado (somando todos os valores da sequência de tempo de duração)\n",
    "# Com esta operação, é possível ter o valor final de tempo de atividade (produção)"
   ]
  },
  {
   "cell_type": "code",
   "execution_count": null,
   "id": "72146333-d091-4a7e-a4df-2fabb492665b",
   "metadata": {},
   "outputs": [],
   "source": [
    "tempo_total_utilizado_raio_x = tempo_duracao_raio_x.sum()"
   ]
  },
  {
   "cell_type": "code",
   "execution_count": null,
   "id": "e1a7dec7-630f-452a-a1fb-f2565dcf0d92",
   "metadata": {},
   "outputs": [],
   "source": [
    "tempo_total_utilizado_raio_x"
   ]
  },
  {
   "cell_type": "code",
   "execution_count": null,
   "id": "a00632f8-0855-4709-a66a-0fc0aa9a88ea",
   "metadata": {},
   "outputs": [],
   "source": [
    "# Usando uma variável para armazernar o Tempo Total de Paradas (subtraindo do Tempo Total Disponível o Tempo Total Utilizado)"
   ]
  },
  {
   "cell_type": "code",
   "execution_count": null,
   "id": "d38e6cb4-1028-44fc-a30e-3b65a2a96934",
   "metadata": {},
   "outputs": [],
   "source": [
    "tempo_total_parada_raio_x = tempo_total_disponivel_raio_x - tempo_total_utilizado_raio_x"
   ]
  },
  {
   "cell_type": "code",
   "execution_count": null,
   "id": "fa0eae71-8a80-462b-8818-dcb567841a19",
   "metadata": {},
   "outputs": [],
   "source": [
    "tempo_total_parada_raio_x"
   ]
  },
  {
   "cell_type": "code",
   "execution_count": null,
   "id": "004bd519-876a-432f-ad46-e0195c3b3690",
   "metadata": {},
   "outputs": [],
   "source": [
    "# Usando uma variável para armazenar as ocorrências de paradas (quantidade de registro -1, nos mostra todas as paradas da série)"
   ]
  },
  {
   "cell_type": "code",
   "execution_count": null,
   "id": "d13d4425-7dd9-46f0-bef0-528c0ef7543c",
   "metadata": {},
   "outputs": [],
   "source": [
    "qtde_paradas_raio_x = tempo_duracao_raio_x.count() - 1"
   ]
  },
  {
   "cell_type": "code",
   "execution_count": null,
   "id": "d259a8f2-7553-4d9f-9a1c-b84e5abeb282",
   "metadata": {},
   "outputs": [],
   "source": [
    "qtde_paradas_raio_x"
   ]
  },
  {
   "cell_type": "code",
   "execution_count": null,
   "id": "f620c918-7b4d-436a-a299-8630ecb6dafa",
   "metadata": {},
   "outputs": [],
   "source": [
    "# Calculando o MTTF das Colunas de Raio X"
   ]
  },
  {
   "cell_type": "code",
   "execution_count": null,
   "id": "2e78a739-8907-40b9-9ced-05c1fa70c732",
   "metadata": {},
   "outputs": [],
   "source": [
    "mttf_raio_x = tempo_duracao_raio_x.mean()"
   ]
  },
  {
   "cell_type": "code",
   "execution_count": null,
   "id": "84610ca4-44cb-43ae-a412-72ea5a2ff373",
   "metadata": {},
   "outputs": [],
   "source": [
    "mttf_raio_x"
   ]
  },
  {
   "cell_type": "code",
   "execution_count": null,
   "id": "416f7e0b-1b39-486c-a767-2c4ebd15f8a7",
   "metadata": {},
   "outputs": [],
   "source": [
    "# Calculando o MTTR das Colunas de Raio X"
   ]
  },
  {
   "cell_type": "code",
   "execution_count": null,
   "id": "011ebfe7-4193-4ddc-8f7c-f88704ffed9a",
   "metadata": {},
   "outputs": [],
   "source": [
    "mttr_raio_x = tempo_total_parada_raio_x / qtde_paradas_raio_x"
   ]
  },
  {
   "cell_type": "code",
   "execution_count": null,
   "id": "5802a02c-f919-488c-a46d-fccec99ed693",
   "metadata": {},
   "outputs": [],
   "source": [
    "mttr_raio_x"
   ]
  },
  {
   "cell_type": "code",
   "execution_count": null,
   "id": "992ecb9a-05c2-4b3f-ba5f-19f0ee608320",
   "metadata": {},
   "outputs": [],
   "source": [
    "# Calculando o MTBF das Colunas de Raio X"
   ]
  },
  {
   "cell_type": "code",
   "execution_count": null,
   "id": "cb1cd0f9-dd9d-4f45-bf50-2e6d4be184ef",
   "metadata": {},
   "outputs": [],
   "source": [
    "mtbf_raio_x = (tempo_total_disponivel_raio_x - tempo_total_parada_raio_x) / qtde_paradas_raio_x"
   ]
  },
  {
   "cell_type": "code",
   "execution_count": null,
   "id": "43fdbc3d-8167-4054-a0bf-9176b9aca64e",
   "metadata": {},
   "outputs": [],
   "source": [
    "mtbf_raio_x"
   ]
  },
  {
   "cell_type": "code",
   "execution_count": null,
   "id": "e5e565e0-2938-4f47-b8e2-b3dae226c170",
   "metadata": {},
   "outputs": [],
   "source": [
    "# Calculando a Disponibilidade das Colunas de Raio X"
   ]
  },
  {
   "cell_type": "code",
   "execution_count": null,
   "id": "b1c51f24-4db4-4bba-8b6b-da6027ffdffb",
   "metadata": {},
   "outputs": [],
   "source": [
    "disponibilidade_raio_x = mtbf_raio_x / (mttr_raio_x + mtbf_raio_x)"
   ]
  },
  {
   "cell_type": "code",
   "execution_count": null,
   "id": "36976fb6-a28f-4c6c-a4a3-f54f15ff588a",
   "metadata": {},
   "outputs": [],
   "source": [
    "disponibilidade_raio_x"
   ]
  },
  {
   "cell_type": "code",
   "execution_count": null,
   "id": "241b283f-505c-48ee-af61-a6bb3ce83bcd",
   "metadata": {},
   "outputs": [],
   "source": []
  }
 ],
 "metadata": {
  "kernelspec": {
   "display_name": "Python 3",
   "language": "python",
   "name": "python3"
  },
  "language_info": {
   "codemirror_mode": {
    "name": "ipython",
    "version": 3
   },
   "file_extension": ".py",
   "mimetype": "text/x-python",
   "name": "python",
   "nbconvert_exporter": "python",
   "pygments_lexer": "ipython3",
   "version": "3.8.8"
  }
 },
 "nbformat": 4,
 "nbformat_minor": 5
}
